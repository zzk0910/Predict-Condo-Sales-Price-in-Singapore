{
 "cells": [
  {
   "cell_type": "code",
   "execution_count": 7,
   "id": "dd069fdf-b24d-4704-8cb1-dff6fc8290fb",
   "metadata": {},
   "outputs": [],
   "source": [
    "import numpy as np\n",
    "import pandas as pd\n",
    "import joblib"
   ]
  },
  {
   "cell_type": "code",
   "execution_count": 8,
   "id": "f308501c-3a69-4c04-9673-6b9ebe2077b9",
   "metadata": {},
   "outputs": [],
   "source": [
    "bedroom_median = 3.0\n",
    "bathroom_median = 2.0\n",
    "built_year_median = 2014.0\n",
    "no_of_units_median = 366.0"
   ]
  },
  {
   "cell_type": "code",
   "execution_count": 9,
   "id": "2117f878-a18c-4252-aad1-98de657ca484",
   "metadata": {},
   "outputs": [],
   "source": [
    "# cut_bins: [0.000e+00, 5.600e+01, 1.090e+02, 1.680e+02, 2.660e+02, 3.660e+02, 4.600e+02, 5.640e+02, 6.960e+02, 1.042e+03, 1.000e+07]\n",
    "# [28.5, 82.5, 138.5, 217.0, 316.0, 413.0, 512.0, 630.0, 869.0, 1622.5]\n",
    "\n",
    "cut_bins = [0.000e+00, 5.600e+01, 1.090e+02, 1.680e+02, 2.660e+02, 3.660e+02, 4.600e+02, 5.640e+02, 6.960e+02, 1.042e+03, 1.000e+07]\n",
    "cut_labels = [28.5, 82.5, 138.5, 217.0, 316.0, 413.0, 512.0, 630.0, 869.0, 1622.5]"
   ]
  },
  {
   "cell_type": "code",
   "execution_count": 10,
   "id": "6b134b46-6f1d-4b23-88c1-b37a932b6ee0",
   "metadata": {
    "id": "4a0cf3dc-c70d-48d0-b0e5-03293d1b02f5"
   },
   "outputs": [],
   "source": [
    "def convert_test_set(X_test):\n",
    "    # Data preprocessing for test data set\n",
    "    \n",
    "    #transformaing bedrooms, i.e: from 2+1 to 3\n",
    "    X_test['bedrooms']=X_test['bedrooms'].apply(lambda x: x if type(x)==float else eval(x))\n",
    "    \n",
    "    # Deal with NaN data\n",
    "    X_test['bedrooms'].fillna(value=bedroom_median, inplace=True)\n",
    "    X_test['bathrooms'].fillna(value=bathroom_median, inplace=True)\n",
    "    X_test['built_year'].fillna(value=built_year_median, inplace=True)\n",
    "    X_test['no_of_units'].fillna(value=no_of_units_median, inplace=True)\n",
    "\n",
    "    # Check column 'tenure', treat houses that are not 'freehold' as 'leasehold', also fill NaN with 'leasehold'\n",
    "    X_test['tenure'].where(X_test['tenure']=='freehold', other='leasehold', inplace=True)\n",
    "\n",
    "    # Drop rows whose area_size is NaN\n",
    "    X_test.dropna(axis=0, subset=['area_size'], inplace=True)\n",
    "    \n",
    "    # Convert some string columns to 0-1 verctors\n",
    "    # Type\n",
    "    type_mapping = {'apartment': 0 ,'condominium' : 1}\n",
    "    X_test['type'] = X_test['type'].map(type_mapping)\n",
    "    # Tenure\n",
    "    tenure_mapping = {'freehold':0 ,'leasehold' : 1}\n",
    "    X_test['tenure'] = X_test['tenure'].map(tenure_mapping)\n",
    "    \n",
    "    # For 'build_year', use 2022 - original year to get current age of houses\n",
    "    X_test['built_year'] = 2022 - X_test['built_year']\n",
    "\n",
    "    # For no_of_units, divide all houses into 10 categories, manually set lowest limit=0 and highest limit=10000\n",
    "    X_test['no_of_units'] = pd.cut(X_test['no_of_units'], bins=cut_bins, labels=cut_labels, include_lowest=True).values\n",
    "    \n",
    "    # Convert region to numerical values\n",
    "    region_mapping = {'north region': 0,\n",
    "                     'west region': 1,\n",
    "                     'central region': 2,\n",
    "                     'north-east region': 3,\n",
    "                     'east region': 4}\n",
    "    X_test['region'] = X_test['region'].map(region_mapping)\n",
    "\n",
    "\n",
    "    return"
   ]
  },
  {
   "cell_type": "code",
   "execution_count": 11,
   "id": "19a1a85f-b7b3-42f3-b325-09cba43fdd30",
   "metadata": {
    "id": "3543f361-bbdb-45e5-b65c-36167ae47a56"
   },
   "outputs": [],
   "source": [
    "# Import test dataset\n",
    "data_type = {\n",
    "            'listing_id': int,\n",
    "            'name': str,\n",
    "             'street': str,\n",
    "             'type': str,\n",
    "             'model': str,\n",
    "             'market_segment': str,\n",
    "             'type_of_area': str,\n",
    "             'bedrooms': str,\n",
    "             'bathrooms': float,\n",
    "             'district': int,\n",
    "             'region': str,\n",
    "             'planning_area': str,\n",
    "             'subszone': str,\n",
    "             'lat': float,\n",
    "             'lng': float,\n",
    "             'tenure': str,\n",
    "             'built_year': float,\n",
    "             'no_of_units': float,\n",
    "             'area_size': float,\n",
    "             'eco_category': str,\n",
    "             'accessibility': str,\n",
    "             'date_listed': str\n",
    "             }\n",
    "\n",
    "test_set = pd.read_csv(\"Data/test.csv\", dtype=data_type)\n",
    "\n",
    "\n",
    "# Make a copy\n",
    "test_set_copy = test_set.copy()"
   ]
  },
  {
   "cell_type": "code",
   "execution_count": 12,
   "id": "588aad48-7a88-4491-ba85-243fc77221b4",
   "metadata": {
    "id": "c5784418-25c1-4a29-996c-29c8ef5c225d"
   },
   "outputs": [
    {
     "data": {
      "text/html": [
       "<div>\n",
       "<style scoped>\n",
       "    .dataframe tbody tr th:only-of-type {\n",
       "        vertical-align: middle;\n",
       "    }\n",
       "\n",
       "    .dataframe tbody tr th {\n",
       "        vertical-align: top;\n",
       "    }\n",
       "\n",
       "    .dataframe thead th {\n",
       "        text-align: right;\n",
       "    }\n",
       "</style>\n",
       "<table border=\"1\" class=\"dataframe\">\n",
       "  <thead>\n",
       "    <tr style=\"text-align: right;\">\n",
       "      <th></th>\n",
       "      <th>listing_id</th>\n",
       "      <th>name</th>\n",
       "      <th>street</th>\n",
       "      <th>type</th>\n",
       "      <th>model</th>\n",
       "      <th>market_segment</th>\n",
       "      <th>type_of_area</th>\n",
       "      <th>bedrooms</th>\n",
       "      <th>bathrooms</th>\n",
       "      <th>district</th>\n",
       "      <th>...</th>\n",
       "      <th>subszone</th>\n",
       "      <th>lat</th>\n",
       "      <th>lng</th>\n",
       "      <th>tenure</th>\n",
       "      <th>built_year</th>\n",
       "      <th>no_of_units</th>\n",
       "      <th>area_size</th>\n",
       "      <th>eco_category</th>\n",
       "      <th>accessibility</th>\n",
       "      <th>date_listed</th>\n",
       "    </tr>\n",
       "  </thead>\n",
       "  <tbody>\n",
       "    <tr>\n",
       "      <th>0</th>\n",
       "      <td>1487111</td>\n",
       "      <td>leedon green</td>\n",
       "      <td>leedon heights</td>\n",
       "      <td>1</td>\n",
       "      <td>condominium</td>\n",
       "      <td>ocr</td>\n",
       "      <td>strata</td>\n",
       "      <td>2.0</td>\n",
       "      <td>2.0</td>\n",
       "      <td>10</td>\n",
       "      <td>...</td>\n",
       "      <td>farrer court</td>\n",
       "      <td>1.313566</td>\n",
       "      <td>103.803218</td>\n",
       "      <td>0</td>\n",
       "      <td>8.0</td>\n",
       "      <td>630.0</td>\n",
       "      <td>710.0</td>\n",
       "      <td>uncategorized</td>\n",
       "      <td>guarded</td>\n",
       "      <td>2021-12-12</td>\n",
       "    </tr>\n",
       "    <tr>\n",
       "      <th>1</th>\n",
       "      <td>6794066</td>\n",
       "      <td>the line @ tanjong rhu</td>\n",
       "      <td>tanjong rhu road</td>\n",
       "      <td>1</td>\n",
       "      <td>condominium</td>\n",
       "      <td>ocr</td>\n",
       "      <td>strata</td>\n",
       "      <td>3.0</td>\n",
       "      <td>2.0</td>\n",
       "      <td>15</td>\n",
       "      <td>...</td>\n",
       "      <td>tanjong rhu</td>\n",
       "      <td>1.298437</td>\n",
       "      <td>103.884408</td>\n",
       "      <td>0</td>\n",
       "      <td>6.0</td>\n",
       "      <td>138.5</td>\n",
       "      <td>1055.0</td>\n",
       "      <td>uncategorized</td>\n",
       "      <td>guarded</td>\n",
       "      <td>2021-10-12</td>\n",
       "    </tr>\n",
       "    <tr>\n",
       "      <th>2</th>\n",
       "      <td>4027017</td>\n",
       "      <td>parc elegance</td>\n",
       "      <td>telok kurau road</td>\n",
       "      <td>0</td>\n",
       "      <td>apartment</td>\n",
       "      <td>ocr</td>\n",
       "      <td>strata</td>\n",
       "      <td>3.0</td>\n",
       "      <td>1.0</td>\n",
       "      <td>15</td>\n",
       "      <td>...</td>\n",
       "      <td>frankel</td>\n",
       "      <td>1.317851</td>\n",
       "      <td>103.908905</td>\n",
       "      <td>0</td>\n",
       "      <td>9.0</td>\n",
       "      <td>138.5</td>\n",
       "      <td>463.0</td>\n",
       "      <td>uncategorized</td>\n",
       "      <td>guarded</td>\n",
       "      <td>2021-12-23</td>\n",
       "    </tr>\n",
       "  </tbody>\n",
       "</table>\n",
       "<p>3 rows × 22 columns</p>\n",
       "</div>"
      ],
      "text/plain": [
       "   listing_id                    name            street  type        model  \\\n",
       "0     1487111            leedon green    leedon heights     1  condominium   \n",
       "1     6794066  the line @ tanjong rhu  tanjong rhu road     1  condominium   \n",
       "2     4027017           parc elegance  telok kurau road     0    apartment   \n",
       "\n",
       "  market_segment type_of_area  bedrooms  bathrooms  district  ...  \\\n",
       "0            ocr       strata       2.0        2.0        10  ...   \n",
       "1            ocr       strata       3.0        2.0        15  ...   \n",
       "2            ocr       strata       3.0        1.0        15  ...   \n",
       "\n",
       "       subszone       lat         lng  tenure  built_year  no_of_units  \\\n",
       "0  farrer court  1.313566  103.803218       0         8.0        630.0   \n",
       "1   tanjong rhu  1.298437  103.884408       0         6.0        138.5   \n",
       "2       frankel  1.317851  103.908905       0         9.0        138.5   \n",
       "\n",
       "   area_size   eco_category  accessibility date_listed  \n",
       "0      710.0  uncategorized        guarded  2021-12-12  \n",
       "1     1055.0  uncategorized        guarded  2021-10-12  \n",
       "2      463.0  uncategorized        guarded  2021-12-23  \n",
       "\n",
       "[3 rows x 22 columns]"
      ]
     },
     "execution_count": 12,
     "metadata": {},
     "output_type": "execute_result"
    }
   ],
   "source": [
    "convert_test_set(test_set_copy)\n",
    "test_set_copy.reset_index(drop=True, inplace=True)\n",
    "test_set_copy.head(3)"
   ]
  },
  {
   "cell_type": "code",
   "execution_count": 13,
   "id": "8701446b-d70a-4981-9b3c-c09cfd3e3bf6",
   "metadata": {},
   "outputs": [],
   "source": [
    "# Import auxiliary data\n",
    "commercial_centres = pd.read_csv(\"Data/auxiliary-data/sg-commerical-centres.csv\")\n",
    "hawker_centres = pd.read_csv(\"Data/auxiliary-data/sg-gov-markets-hawker-centres.csv\")\n",
    "primary_schools = pd.read_csv(\"Data/auxiliary-data/sg-primary-schools.csv\")\n",
    "secondary_schools = pd.read_csv(\"Data/auxiliary-data/sg-secondary-schools.csv\")\n",
    "shopping_malls = pd.read_csv(\"Data/auxiliary-data/sg-shopping-malls.csv\")\n",
    "stations = pd.read_csv(\"Data/auxiliary-data/sg-train-stations.csv\")"
   ]
  },
  {
   "cell_type": "code",
   "execution_count": 14,
   "id": "94ee62d5-56ad-4bcb-8db5-1c2f965b7c71",
   "metadata": {
    "id": "2a222859-755f-4366-a958-61de5c787df9"
   },
   "outputs": [],
   "source": [
    "# Calculate distance in km with lat & lng\n",
    "def haversine_batch(train_lng, train_lat, place_lng, place_lat):  # lng1，lat1，lng2，lat2\n",
    "    \"\"\"\n",
    "    Calculate the great circle distance between two points\n",
    "    on the earth (specified in decimal degrees)\n",
    "    \"\"\"\n",
    "\n",
    "    place_lat = np.radians(place_lat)\n",
    "    place_lng = np.radians(place_lng)\n",
    "\n",
    "    train_lat = np.radians(train_lat)\n",
    "    train_lng = np.radians(train_lng)\n",
    "\n",
    "    dlat = place_lat - train_lat\n",
    "    dlng = place_lng - train_lng\n",
    "\n",
    "    a = np.sin(dlat / 2) ** 2 + np.cos(train_lat) * np.cos(place_lat) * np.sin(dlng / 2) ** 2\n",
    "    c = 2 * np.arcsin(np.sqrt(a))\n",
    "    r = 6371 # Radius of the earth in km\n",
    "    return c * r\n",
    "\n",
    "\n",
    "\n",
    "def cal_distance(X, is_train: bool):\n",
    "    # Find distance to nearest facilities for each house\n",
    "    facilities = [commercial_centres, hawker_centres, primary_schools, secondary_schools, shopping_malls, stations]\n",
    "\n",
    "    res = []\n",
    "\n",
    "    for f in facilities:\n",
    "\n",
    "        distance = np.full((len(X), 1), np.inf)\n",
    "\n",
    "        for _, row in f.iterrows():\n",
    "            d = haversine_batch(X['lng'].values, X['lat'].values, row['lng'], row['lat']).reshape(-1, 1)\n",
    "            distance = np.minimum(distance, d)\n",
    "        \n",
    "        res.append(distance)\n",
    "        \n",
    "    if is_train:\n",
    "        res.append(X['price'].values.reshape(-1, 1))\n",
    "        pd_distance = pd.DataFrame(data=np.squeeze(np.asarray(res)).swapaxes(0, 1),\n",
    "                              columns=['to_commercial_centres', 'to_hawker_centres', 'to_primary_schools',\n",
    "                                       'to_secondary_schools', 'to_shopping_malls', 'to_train_stations', 'price'])\n",
    "    else:\n",
    "        pd_distance = pd.DataFrame(data=np.squeeze(np.asarray(res)).swapaxes(0, 1),\n",
    "                          columns=['to_commercial_centres', 'to_hawker_centres', 'to_primary_schools',\n",
    "                                   'to_secondary_schools', 'to_shopping_malls', 'to_train_stations'])\n",
    "    return pd_distance"
   ]
  },
  {
   "cell_type": "code",
   "execution_count": 15,
   "id": "0e7bc14e-f757-42dd-b16b-dd1cd84b144c",
   "metadata": {},
   "outputs": [],
   "source": [
    "test_distance = cal_distance(test_set_copy, is_train=False)\n",
    "test_distance.reset_index(drop=True, inplace=True)"
   ]
  },
  {
   "cell_type": "code",
   "execution_count": 16,
   "id": "13bd27d0-a93f-4d7b-96f6-0fcfbfe09b6d",
   "metadata": {},
   "outputs": [
    {
     "data": {
      "text/html": [
       "<div>\n",
       "<style scoped>\n",
       "    .dataframe tbody tr th:only-of-type {\n",
       "        vertical-align: middle;\n",
       "    }\n",
       "\n",
       "    .dataframe tbody tr th {\n",
       "        vertical-align: top;\n",
       "    }\n",
       "\n",
       "    .dataframe thead th {\n",
       "        text-align: right;\n",
       "    }\n",
       "</style>\n",
       "<table border=\"1\" class=\"dataframe\">\n",
       "  <thead>\n",
       "    <tr style=\"text-align: right;\">\n",
       "      <th></th>\n",
       "      <th>type</th>\n",
       "      <th>bedrooms</th>\n",
       "      <th>bathrooms</th>\n",
       "      <th>district</th>\n",
       "      <th>region</th>\n",
       "      <th>tenure</th>\n",
       "      <th>built_year</th>\n",
       "      <th>no_of_units</th>\n",
       "      <th>area_size</th>\n",
       "      <th>to_commercial_centres</th>\n",
       "      <th>to_hawker_centres</th>\n",
       "      <th>to_primary_schools</th>\n",
       "      <th>to_secondary_schools</th>\n",
       "      <th>to_shopping_malls</th>\n",
       "      <th>to_train_stations</th>\n",
       "    </tr>\n",
       "  </thead>\n",
       "  <tbody>\n",
       "    <tr>\n",
       "      <th>0</th>\n",
       "      <td>1</td>\n",
       "      <td>2.0</td>\n",
       "      <td>2.0</td>\n",
       "      <td>10</td>\n",
       "      <td>2</td>\n",
       "      <td>0</td>\n",
       "      <td>8.0</td>\n",
       "      <td>630.0</td>\n",
       "      <td>710.0</td>\n",
       "      <td>1.659712</td>\n",
       "      <td>0.410398</td>\n",
       "      <td>0.980559</td>\n",
       "      <td>1.048619</td>\n",
       "      <td>1.128913</td>\n",
       "      <td>0.654270</td>\n",
       "    </tr>\n",
       "    <tr>\n",
       "      <th>1</th>\n",
       "      <td>1</td>\n",
       "      <td>3.0</td>\n",
       "      <td>2.0</td>\n",
       "      <td>15</td>\n",
       "      <td>2</td>\n",
       "      <td>0</td>\n",
       "      <td>6.0</td>\n",
       "      <td>138.5</td>\n",
       "      <td>1055.0</td>\n",
       "      <td>2.415213</td>\n",
       "      <td>0.446516</td>\n",
       "      <td>1.469982</td>\n",
       "      <td>0.249159</td>\n",
       "      <td>0.969806</td>\n",
       "      <td>0.888254</td>\n",
       "    </tr>\n",
       "    <tr>\n",
       "      <th>2</th>\n",
       "      <td>0</td>\n",
       "      <td>3.0</td>\n",
       "      <td>1.0</td>\n",
       "      <td>15</td>\n",
       "      <td>4</td>\n",
       "      <td>0</td>\n",
       "      <td>9.0</td>\n",
       "      <td>138.5</td>\n",
       "      <td>463.0</td>\n",
       "      <td>1.712861</td>\n",
       "      <td>0.587265</td>\n",
       "      <td>0.893951</td>\n",
       "      <td>1.343460</td>\n",
       "      <td>1.475109</td>\n",
       "      <td>0.572349</td>\n",
       "    </tr>\n",
       "  </tbody>\n",
       "</table>\n",
       "</div>"
      ],
      "text/plain": [
       "   type  bedrooms  bathrooms  district  region  tenure  built_year  \\\n",
       "0     1       2.0        2.0        10       2       0         8.0   \n",
       "1     1       3.0        2.0        15       2       0         6.0   \n",
       "2     0       3.0        1.0        15       4       0         9.0   \n",
       "\n",
       "  no_of_units  area_size  to_commercial_centres  to_hawker_centres  \\\n",
       "0       630.0      710.0               1.659712           0.410398   \n",
       "1       138.5     1055.0               2.415213           0.446516   \n",
       "2       138.5      463.0               1.712861           0.587265   \n",
       "\n",
       "   to_primary_schools  to_secondary_schools  to_shopping_malls  \\\n",
       "0            0.980559              1.048619           1.128913   \n",
       "1            1.469982              0.249159           0.969806   \n",
       "2            0.893951              1.343460           1.475109   \n",
       "\n",
       "   to_train_stations  \n",
       "0           0.654270  \n",
       "1           0.888254  \n",
       "2           0.572349  "
      ]
     },
     "execution_count": 16,
     "metadata": {},
     "output_type": "execute_result"
    }
   ],
   "source": [
    "# Test set\n",
    "X_test_without_auxiliary_data = test_set_copy[['type', 'bedrooms', 'bathrooms', 'district', 'region', 'tenure', 'built_year', 'no_of_units', 'area_size']]\n",
    "X_test_plus_auxiliary_data = pd.concat([X_test_without_auxiliary_data, test_distance], axis=1)\n",
    "X_test_plus_auxiliary_data.head(3)"
   ]
  },
  {
   "cell_type": "code",
   "execution_count": 17,
   "id": "af18ea6a-a01b-4c3c-b510-55dbbceca129",
   "metadata": {},
   "outputs": [
    {
     "data": {
      "text/html": [
       "<div>\n",
       "<style scoped>\n",
       "    .dataframe tbody tr th:only-of-type {\n",
       "        vertical-align: middle;\n",
       "    }\n",
       "\n",
       "    .dataframe tbody tr th {\n",
       "        vertical-align: top;\n",
       "    }\n",
       "\n",
       "    .dataframe thead th {\n",
       "        text-align: right;\n",
       "    }\n",
       "</style>\n",
       "<table border=\"1\" class=\"dataframe\">\n",
       "  <thead>\n",
       "    <tr style=\"text-align: right;\">\n",
       "      <th></th>\n",
       "      <th>type</th>\n",
       "      <th>bedrooms</th>\n",
       "      <th>bathrooms</th>\n",
       "      <th>district</th>\n",
       "      <th>tenure</th>\n",
       "      <th>built_year</th>\n",
       "      <th>no_of_units</th>\n",
       "      <th>area_size</th>\n",
       "      <th>to_commercial_centres</th>\n",
       "      <th>to_hawker_centres</th>\n",
       "      <th>to_primary_schools</th>\n",
       "      <th>to_secondary_schools</th>\n",
       "      <th>to_shopping_malls</th>\n",
       "      <th>to_train_stations</th>\n",
       "    </tr>\n",
       "  </thead>\n",
       "  <tbody>\n",
       "    <tr>\n",
       "      <th>0</th>\n",
       "      <td>1</td>\n",
       "      <td>2.0</td>\n",
       "      <td>2.0</td>\n",
       "      <td>10</td>\n",
       "      <td>0</td>\n",
       "      <td>8.0</td>\n",
       "      <td>630.0</td>\n",
       "      <td>710.0</td>\n",
       "      <td>1.659712</td>\n",
       "      <td>0.410398</td>\n",
       "      <td>0.980559</td>\n",
       "      <td>1.048619</td>\n",
       "      <td>1.128913</td>\n",
       "      <td>0.654270</td>\n",
       "    </tr>\n",
       "    <tr>\n",
       "      <th>1</th>\n",
       "      <td>1</td>\n",
       "      <td>3.0</td>\n",
       "      <td>2.0</td>\n",
       "      <td>15</td>\n",
       "      <td>0</td>\n",
       "      <td>6.0</td>\n",
       "      <td>138.5</td>\n",
       "      <td>1055.0</td>\n",
       "      <td>2.415213</td>\n",
       "      <td>0.446516</td>\n",
       "      <td>1.469982</td>\n",
       "      <td>0.249159</td>\n",
       "      <td>0.969806</td>\n",
       "      <td>0.888254</td>\n",
       "    </tr>\n",
       "    <tr>\n",
       "      <th>2</th>\n",
       "      <td>0</td>\n",
       "      <td>3.0</td>\n",
       "      <td>1.0</td>\n",
       "      <td>15</td>\n",
       "      <td>0</td>\n",
       "      <td>9.0</td>\n",
       "      <td>138.5</td>\n",
       "      <td>463.0</td>\n",
       "      <td>1.712861</td>\n",
       "      <td>0.587265</td>\n",
       "      <td>0.893951</td>\n",
       "      <td>1.343460</td>\n",
       "      <td>1.475109</td>\n",
       "      <td>0.572349</td>\n",
       "    </tr>\n",
       "    <tr>\n",
       "      <th>3</th>\n",
       "      <td>1</td>\n",
       "      <td>2.0</td>\n",
       "      <td>1.0</td>\n",
       "      <td>17</td>\n",
       "      <td>1</td>\n",
       "      <td>92.0</td>\n",
       "      <td>413.0</td>\n",
       "      <td>645.0</td>\n",
       "      <td>1.862085</td>\n",
       "      <td>2.334125</td>\n",
       "      <td>0.709727</td>\n",
       "      <td>0.528898</td>\n",
       "      <td>2.319693</td>\n",
       "      <td>1.249331</td>\n",
       "    </tr>\n",
       "    <tr>\n",
       "      <th>4</th>\n",
       "      <td>1</td>\n",
       "      <td>4.0</td>\n",
       "      <td>6.0</td>\n",
       "      <td>1</td>\n",
       "      <td>1</td>\n",
       "      <td>8.0</td>\n",
       "      <td>316.0</td>\n",
       "      <td>6200.0</td>\n",
       "      <td>1.179363</td>\n",
       "      <td>0.327226</td>\n",
       "      <td>1.075392</td>\n",
       "      <td>1.680849</td>\n",
       "      <td>0.394375</td>\n",
       "      <td>0.409125</td>\n",
       "    </tr>\n",
       "  </tbody>\n",
       "</table>\n",
       "</div>"
      ],
      "text/plain": [
       "   type  bedrooms  bathrooms  district  tenure  built_year no_of_units  \\\n",
       "0     1       2.0        2.0        10       0         8.0       630.0   \n",
       "1     1       3.0        2.0        15       0         6.0       138.5   \n",
       "2     0       3.0        1.0        15       0         9.0       138.5   \n",
       "3     1       2.0        1.0        17       1        92.0       413.0   \n",
       "4     1       4.0        6.0         1       1         8.0       316.0   \n",
       "\n",
       "   area_size  to_commercial_centres  to_hawker_centres  to_primary_schools  \\\n",
       "0      710.0               1.659712           0.410398            0.980559   \n",
       "1     1055.0               2.415213           0.446516            1.469982   \n",
       "2      463.0               1.712861           0.587265            0.893951   \n",
       "3      645.0               1.862085           2.334125            0.709727   \n",
       "4     6200.0               1.179363           0.327226            1.075392   \n",
       "\n",
       "   to_secondary_schools  to_shopping_malls  to_train_stations  \n",
       "0              1.048619           1.128913           0.654270  \n",
       "1              0.249159           0.969806           0.888254  \n",
       "2              1.343460           1.475109           0.572349  \n",
       "3              0.528898           2.319693           1.249331  \n",
       "4              1.680849           0.394375           0.409125  "
      ]
     },
     "execution_count": 17,
     "metadata": {},
     "output_type": "execute_result"
    }
   ],
   "source": [
    "# For area and bathrooms model\n",
    "X_test = X_test_plus_auxiliary_data.drop(['region'],axis=1)\n",
    "X_test.head(5)"
   ]
  },
  {
   "cell_type": "code",
   "execution_count": 18,
   "id": "a32f2d2a-2e34-483a-a42e-c715e4f8cb2f",
   "metadata": {},
   "outputs": [
    {
     "data": {
      "text/html": [
       "<div>\n",
       "<style scoped>\n",
       "    .dataframe tbody tr th:only-of-type {\n",
       "        vertical-align: middle;\n",
       "    }\n",
       "\n",
       "    .dataframe tbody tr th {\n",
       "        vertical-align: top;\n",
       "    }\n",
       "\n",
       "    .dataframe thead th {\n",
       "        text-align: right;\n",
       "    }\n",
       "</style>\n",
       "<table border=\"1\" class=\"dataframe\">\n",
       "  <thead>\n",
       "    <tr style=\"text-align: right;\">\n",
       "      <th></th>\n",
       "      <th>type</th>\n",
       "      <th>bedrooms</th>\n",
       "      <th>bathrooms</th>\n",
       "      <th>region</th>\n",
       "      <th>tenure</th>\n",
       "      <th>built_year</th>\n",
       "      <th>no_of_units</th>\n",
       "      <th>area_size</th>\n",
       "      <th>to_commercial_centres</th>\n",
       "      <th>to_hawker_centres</th>\n",
       "      <th>to_primary_schools</th>\n",
       "      <th>to_secondary_schools</th>\n",
       "      <th>to_shopping_malls</th>\n",
       "      <th>to_train_stations</th>\n",
       "    </tr>\n",
       "  </thead>\n",
       "  <tbody>\n",
       "    <tr>\n",
       "      <th>0</th>\n",
       "      <td>1</td>\n",
       "      <td>2.0</td>\n",
       "      <td>2.0</td>\n",
       "      <td>2</td>\n",
       "      <td>0</td>\n",
       "      <td>8.0</td>\n",
       "      <td>630.0</td>\n",
       "      <td>710.0</td>\n",
       "      <td>1.659712</td>\n",
       "      <td>0.410398</td>\n",
       "      <td>0.980559</td>\n",
       "      <td>1.048619</td>\n",
       "      <td>1.128913</td>\n",
       "      <td>0.654270</td>\n",
       "    </tr>\n",
       "    <tr>\n",
       "      <th>1</th>\n",
       "      <td>1</td>\n",
       "      <td>3.0</td>\n",
       "      <td>2.0</td>\n",
       "      <td>2</td>\n",
       "      <td>0</td>\n",
       "      <td>6.0</td>\n",
       "      <td>138.5</td>\n",
       "      <td>1055.0</td>\n",
       "      <td>2.415213</td>\n",
       "      <td>0.446516</td>\n",
       "      <td>1.469982</td>\n",
       "      <td>0.249159</td>\n",
       "      <td>0.969806</td>\n",
       "      <td>0.888254</td>\n",
       "    </tr>\n",
       "    <tr>\n",
       "      <th>2</th>\n",
       "      <td>0</td>\n",
       "      <td>3.0</td>\n",
       "      <td>1.0</td>\n",
       "      <td>4</td>\n",
       "      <td>0</td>\n",
       "      <td>9.0</td>\n",
       "      <td>138.5</td>\n",
       "      <td>463.0</td>\n",
       "      <td>1.712861</td>\n",
       "      <td>0.587265</td>\n",
       "      <td>0.893951</td>\n",
       "      <td>1.343460</td>\n",
       "      <td>1.475109</td>\n",
       "      <td>0.572349</td>\n",
       "    </tr>\n",
       "    <tr>\n",
       "      <th>3</th>\n",
       "      <td>1</td>\n",
       "      <td>2.0</td>\n",
       "      <td>1.0</td>\n",
       "      <td>4</td>\n",
       "      <td>1</td>\n",
       "      <td>92.0</td>\n",
       "      <td>413.0</td>\n",
       "      <td>645.0</td>\n",
       "      <td>1.862085</td>\n",
       "      <td>2.334125</td>\n",
       "      <td>0.709727</td>\n",
       "      <td>0.528898</td>\n",
       "      <td>2.319693</td>\n",
       "      <td>1.249331</td>\n",
       "    </tr>\n",
       "    <tr>\n",
       "      <th>4</th>\n",
       "      <td>1</td>\n",
       "      <td>4.0</td>\n",
       "      <td>6.0</td>\n",
       "      <td>2</td>\n",
       "      <td>1</td>\n",
       "      <td>8.0</td>\n",
       "      <td>316.0</td>\n",
       "      <td>6200.0</td>\n",
       "      <td>1.179363</td>\n",
       "      <td>0.327226</td>\n",
       "      <td>1.075392</td>\n",
       "      <td>1.680849</td>\n",
       "      <td>0.394375</td>\n",
       "      <td>0.409125</td>\n",
       "    </tr>\n",
       "  </tbody>\n",
       "</table>\n",
       "</div>"
      ],
      "text/plain": [
       "   type  bedrooms  bathrooms  region  tenure  built_year no_of_units  \\\n",
       "0     1       2.0        2.0       2       0         8.0       630.0   \n",
       "1     1       3.0        2.0       2       0         6.0       138.5   \n",
       "2     0       3.0        1.0       4       0         9.0       138.5   \n",
       "3     1       2.0        1.0       4       1        92.0       413.0   \n",
       "4     1       4.0        6.0       2       1         8.0       316.0   \n",
       "\n",
       "   area_size  to_commercial_centres  to_hawker_centres  to_primary_schools  \\\n",
       "0      710.0               1.659712           0.410398            0.980559   \n",
       "1     1055.0               2.415213           0.446516            1.469982   \n",
       "2      463.0               1.712861           0.587265            0.893951   \n",
       "3      645.0               1.862085           2.334125            0.709727   \n",
       "4     6200.0               1.179363           0.327226            1.075392   \n",
       "\n",
       "   to_secondary_schools  to_shopping_malls  to_train_stations  \n",
       "0              1.048619           1.128913           0.654270  \n",
       "1              0.249159           0.969806           0.888254  \n",
       "2              1.343460           1.475109           0.572349  \n",
       "3              0.528898           2.319693           1.249331  \n",
       "4              1.680849           0.394375           0.409125  "
      ]
     },
     "execution_count": 18,
     "metadata": {},
     "output_type": "execute_result"
    }
   ],
   "source": [
    "# For region model\n",
    "X_test_region = X_test_plus_auxiliary_data.drop(['district'],axis=1)\n",
    "X_test_region.head(5)"
   ]
  },
  {
   "cell_type": "markdown",
   "id": "d1fe50e0-c3e1-4940-af37-06b577d30ed1",
   "metadata": {},
   "source": [
    "## Get level 1 results"
   ]
  },
  {
   "cell_type": "markdown",
   "id": "66f145b1-3b15-406f-9198-ee885307c2bb",
   "metadata": {},
   "source": [
    "### 1. Area models"
   ]
  },
  {
   "cell_type": "code",
   "execution_count": 19,
   "id": "49ab2c6b-d451-44bf-8af3-76e97cc33856",
   "metadata": {},
   "outputs": [
    {
     "data": {
      "text/plain": [
       "array([[1970426.28067219],\n",
       "       [2561129.34527537],\n",
       "       [ 782221.56383361],\n",
       "       ...,\n",
       "       [1680584.34357039],\n",
       "       [ 858353.75069637],\n",
       "       [8217734.69071368]])"
      ]
     },
     "execution_count": 19,
     "metadata": {},
     "output_type": "execute_result"
    }
   ],
   "source": [
    "model_root_path = \"Models/Area_models/gbdt\"\n",
    "\n",
    "area_model_0 = joblib.load(model_root_path + \"_area_0.pkl\")\n",
    "area_model_1 = joblib.load(model_root_path + \"_area_1.pkl\")\n",
    "area_model_2 = joblib.load(model_root_path + \"_area_2.pkl\")\n",
    "area_model_3 = joblib.load(model_root_path + \"_area_3.pkl\")\n",
    "area_model_4 = joblib.load(model_root_path + \"_area_4.pkl\")\n",
    "area_model_5 = joblib.load(model_root_path + \"_area_5.pkl\")\n",
    "area_model_6 = joblib.load(model_root_path + \"_area_6.pkl\")\n",
    "area_model_7 = joblib.load(model_root_path + \"_area_7.pkl\")\n",
    "area_model_8 = joblib.load(model_root_path + \"_area_8.pkl\")\n",
    "area_model_9 = joblib.load(model_root_path + \"_area_9.pkl\")\n",
    "area_model_10 = joblib.load(model_root_path + \"_area_10.pkl\")\n",
    "area_model_11 = joblib.load(model_root_path + \"_area_11.pkl\")\n",
    "area_model_12 = joblib.load(model_root_path + \"_area_12.pkl\")\n",
    "\n",
    "\n",
    "Y_area_gbdt_pred = np.zeros(shape=(len(X_test),))\n",
    "area_split_points = [0, 500, 750, 1000, 1200, 1500, 2000, 2500, 3000, 4000, 5000, 7500, 10000]\n",
    "area_models = [area_model_0, area_model_1, area_model_2, area_model_3, area_model_4,\n",
    "               area_model_5, area_model_6, area_model_7, area_model_8, area_model_9,\n",
    "               area_model_10, area_model_11, area_model_12]\n",
    "\n",
    "for i in range(len(X_test)):\n",
    "    sample_input = X_test.iloc[i,:]\n",
    "    sample_area = sample_input['area_size']\n",
    "    sample_input = sample_input.values.reshape(1, -1)\n",
    "    \n",
    "    isFound = False\n",
    "    for j in range(len(area_models)-2):\n",
    "        if area_split_points[j] <= sample_area < area_split_points[j+1]:\n",
    "            Y_area_gbdt_pred[i] = area_models[j].predict(sample_input)\n",
    "            isFound = True\n",
    "            break\n",
    "    if not isFound:\n",
    "        Y_area_gbdt_pred[i] = area_models[-1].predict(sample_input)\n",
    "\n",
    "\n",
    "Y_area_gbdt_pred = Y_area_gbdt_pred.reshape(-1,1)\n",
    "print(Y_area_gbdt_pred)"
   ]
  },
  {
   "cell_type": "code",
   "execution_count": 20,
   "id": "56507da0-55af-477b-9c3d-2c448169d6bc",
   "metadata": {},
   "outputs": [
    {
     "data": {
      "text/plain": [
       "array([[2010357.75  ],\n",
       "       [2570778.5   ],\n",
       "       [ 781892.1875],\n",
       "       ...,\n",
       "       [1634656.25  ],\n",
       "       [ 869455.5   ],\n",
       "       [7885923.    ]])"
      ]
     },
     "execution_count": 20,
     "metadata": {},
     "output_type": "execute_result"
    }
   ],
   "source": [
    "model_root_path = \"Models/Area_models/xgboost\"\n",
    "\n",
    "area_model_0 = joblib.load(model_root_path + \"_area_0.pkl\")\n",
    "area_model_1 = joblib.load(model_root_path + \"_area_1.pkl\")\n",
    "area_model_2 = joblib.load(model_root_path + \"_area_2.pkl\")\n",
    "area_model_3 = joblib.load(model_root_path + \"_area_3.pkl\")\n",
    "area_model_4 = joblib.load(model_root_path + \"_area_4.pkl\")\n",
    "area_model_5 = joblib.load(model_root_path + \"_area_5.pkl\")\n",
    "area_model_6 = joblib.load(model_root_path + \"_area_6.pkl\")\n",
    "area_model_7 = joblib.load(model_root_path + \"_area_7.pkl\")\n",
    "area_model_8 = joblib.load(model_root_path + \"_area_8.pkl\")\n",
    "area_model_9 = joblib.load(model_root_path + \"_area_9.pkl\")\n",
    "area_model_10 = joblib.load(model_root_path + \"_area_10.pkl\")\n",
    "area_model_11 = joblib.load(model_root_path + \"_area_11.pkl\")\n",
    "area_model_12 = joblib.load(model_root_path + \"_area_12.pkl\")\n",
    "\n",
    "\n",
    "Y_area_xgboost_pred = np.zeros(shape=(len(X_test),))\n",
    "area_split_points = [0, 500, 750, 1000, 1200, 1500, 2000, 2500, 3000, 4000, 5000, 7500, 10000]\n",
    "area_models = [area_model_0, area_model_1, area_model_2, area_model_3, area_model_4,\n",
    "               area_model_5, area_model_6, area_model_7, area_model_8, area_model_9,\n",
    "               area_model_10, area_model_11, area_model_12]\n",
    "\n",
    "for i in range(len(X_test)):\n",
    "    sample_input = X_test.iloc[i,:]\n",
    "    sample_area = sample_input['area_size']\n",
    "    sample_input = sample_input.values.reshape(1, -1)\n",
    "    \n",
    "    isFound = False\n",
    "    for j in range(len(area_models)-2):\n",
    "        if area_split_points[j] <= sample_area < area_split_points[j+1]:\n",
    "            Y_area_xgboost_pred[i] = area_models[j].predict(sample_input)\n",
    "            isFound = True\n",
    "            break\n",
    "    if not isFound:\n",
    "        Y_area_xgboost_pred[i] = area_models[-1].predict(sample_input)\n",
    "\n",
    "Y_area_xgboost_pred = Y_area_xgboost_pred.reshape(-1,1)\n",
    "Y_area_xgboost_pred"
   ]
  },
  {
   "cell_type": "markdown",
   "id": "e2904fcf-8296-424a-9d86-031e62b94b1c",
   "metadata": {},
   "source": [
    "### 2. Region models"
   ]
  },
  {
   "cell_type": "code",
   "execution_count": 15,
   "id": "39b2e10d-ac26-4f97-93a4-7c2a91294b03",
   "metadata": {},
   "outputs": [],
   "source": [
    "# old version\n",
    "# model_dict = {\n",
    "#     0: \"gbdt\",\n",
    "#     1: \"xgboost\",\n",
    "#     2: \"lightgbm\"\n",
    "\n",
    "# }\n",
    "\n",
    "# region_model_index = 1\n",
    "# model_root_path = \"Models/Region_models/\" + model_dict[region_model_index]\n",
    "\n",
    "# region_model_0 = joblib.load(model_root_path + \"_region_0.pkl\")\n",
    "# region_model_1 = joblib.load(model_root_path + \"_region_1.pkl\")\n",
    "# region_model_2 = joblib.load(model_root_path + \"_region_2.pkl\")\n",
    "# region_model_3 = joblib.load(model_root_path + \"_region_3.pkl\")\n",
    "# region_model_4 = joblib.load(model_root_path + \"_region_4.pkl\")\n",
    "\n",
    "# Y_region_models_pred = np.zeros(shape=(len(X_test_region),))\n",
    "# region_split_points = [0,1,2,3,4]\n",
    "# region_models = [region_model_0, region_model_1, region_model_2, region_model_3, region_model_4]\n",
    "\n",
    "# for i in range(len(X_test_region)):\n",
    "#     sample_input = X_test_region.iloc[i,:]\n",
    "#     sample_region = sample_input['region']\n",
    "#     sample_input = sample_input.values.reshape(1, -1)\n",
    "    \n",
    "    \n",
    "#     isFound = False\n",
    "#     for j in range(len(region_models)-2):\n",
    "#         if region_split_points[j] <= sample_region < region_split_points[j+1]:\n",
    "#             Y_region_models_pred[i] = region_models[j].predict(sample_input)\n",
    "#             isFound = True\n",
    "#             break\n",
    "#     if not isFound:\n",
    "#         Y_region_models_pred[i] = region_models[-1].predict(sample_input)\n",
    "\n",
    "# Y_region_models_pred = Y_region_models_pred.reshape(-1,1)\n",
    "# Y_region_models_pred"
   ]
  },
  {
   "cell_type": "code",
   "execution_count": 21,
   "id": "0fc5f5fb-8bfd-4c89-9e69-8a1342a36607",
   "metadata": {},
   "outputs": [
    {
     "data": {
      "text/plain": [
       "array([[1151276.15622788],\n",
       "       [2161178.9297561 ],\n",
       "       [ 910699.51275227],\n",
       "       ...,\n",
       "       [1401468.51601926],\n",
       "       [ 976814.54930105],\n",
       "       [3297987.24679598]])"
      ]
     },
     "execution_count": 21,
     "metadata": {},
     "output_type": "execute_result"
    }
   ],
   "source": [
    "model_root_path = \"Models/Region_models/gbdt\" \n",
    "\n",
    "region_model_0 = joblib.load(model_root_path + \"_region_0.pkl\")\n",
    "region_model_1 = joblib.load(model_root_path + \"_region_1.pkl\")\n",
    "region_model_2 = joblib.load(model_root_path + \"_region_2.pkl\")\n",
    "region_model_3 = joblib.load(model_root_path + \"_region_3.pkl\")\n",
    "region_model_4 = joblib.load(model_root_path + \"_region_4.pkl\")\n",
    "\n",
    "Y_region_gbdt_pred = np.zeros(shape=(len(X_test_region),))\n",
    "region_split_points = [0,1,2,3,4]\n",
    "region_models = [region_model_0, region_model_1, region_model_2, region_model_3, region_model_4]\n",
    "\n",
    "for i in range(len(X_test_region)):\n",
    "    sample_input = X_test_region.iloc[i,:]\n",
    "    sample_region = sample_input['region']\n",
    "    sample_input = sample_input.values.reshape(1, -1)\n",
    "    \n",
    "    \n",
    "    isFound = False\n",
    "    for j in range(len(region_models)-2):\n",
    "        if region_split_points[j] <= sample_region < region_split_points[j+1]:\n",
    "            Y_region_gbdt_pred[i] = region_models[j].predict(sample_input)\n",
    "            isFound = True\n",
    "            break\n",
    "    if not isFound:\n",
    "        Y_region_gbdt_pred[i] = region_models[-1].predict(sample_input)\n",
    "\n",
    "Y_region_gbdt_pred = Y_region_gbdt_pred.reshape(-1,1)\n",
    "Y_region_gbdt_pred"
   ]
  },
  {
   "cell_type": "code",
   "execution_count": 22,
   "id": "e1952ccd-5618-48e1-a69e-6f8b78bfe708",
   "metadata": {},
   "outputs": [
    {
     "data": {
      "text/plain": [
       "array([[1240808.625 ],\n",
       "       [1960900.    ],\n",
       "       [1358296.    ],\n",
       "       ...,\n",
       "       [1559363.    ],\n",
       "       [1010178.0625],\n",
       "       [2868360.25  ]])"
      ]
     },
     "execution_count": 22,
     "metadata": {},
     "output_type": "execute_result"
    }
   ],
   "source": [
    "model_root_path = \"Models/Region_models/xgboost\" \n",
    "\n",
    "region_model_0 = joblib.load(model_root_path + \"_region_0.pkl\")\n",
    "region_model_1 = joblib.load(model_root_path + \"_region_1.pkl\")\n",
    "region_model_2 = joblib.load(model_root_path + \"_region_2.pkl\")\n",
    "region_model_3 = joblib.load(model_root_path + \"_region_3.pkl\")\n",
    "region_model_4 = joblib.load(model_root_path + \"_region_4.pkl\")\n",
    "\n",
    "Y_region_xgboost_pred = np.zeros(shape=(len(X_test_region),))\n",
    "region_split_points = [0,1,2,3,4]\n",
    "region_models = [region_model_0, region_model_1, region_model_2, region_model_3, region_model_4]\n",
    "\n",
    "for i in range(len(X_test_region)):\n",
    "    sample_input = X_test_region.iloc[i,:]\n",
    "    sample_region = sample_input['region']\n",
    "    sample_input = sample_input.values.reshape(1, -1)\n",
    "    \n",
    "    \n",
    "    isFound = False\n",
    "    for j in range(len(region_models)-2):\n",
    "        if region_split_points[j] <= sample_region < region_split_points[j+1]:\n",
    "            Y_region_xgboost_pred[i] = region_models[j].predict(sample_input)\n",
    "            isFound = True\n",
    "            break\n",
    "    if not isFound:\n",
    "        Y_region_xgboost_pred[i] = region_models[-1].predict(sample_input)\n",
    "\n",
    "Y_region_xgboost_pred = Y_region_xgboost_pred.reshape(-1,1)\n",
    "Y_region_xgboost_pred"
   ]
  },
  {
   "cell_type": "markdown",
   "id": "12704d28-7877-48de-8990-f0b2f562fe91",
   "metadata": {},
   "source": [
    "### 3. Bathroom models"
   ]
  },
  {
   "cell_type": "code",
   "execution_count": 23,
   "id": "6547a0ab-ce26-422c-93d9-a62868d01264",
   "metadata": {},
   "outputs": [
    {
     "data": {
      "text/plain": [
       "array([[2025950.98866798],\n",
       "       [2580816.85716467],\n",
       "       [ 794912.42614716],\n",
       "       ...,\n",
       "       [1686846.13013011],\n",
       "       [ 934844.16457352],\n",
       "       [6174863.48170608]])"
      ]
     },
     "execution_count": 23,
     "metadata": {},
     "output_type": "execute_result"
    }
   ],
   "source": [
    "model_root_path = \"Models/Bathrooms_models/gbdt\"\n",
    "\n",
    "bathrooms_model_0 = joblib.load(model_root_path + \"_bathrooms_0.pkl\")\n",
    "bathrooms_model_1 = joblib.load(model_root_path + \"_bathrooms_1.pkl\")\n",
    "bathrooms_model_2 = joblib.load(model_root_path + \"_bathrooms_2.pkl\")\n",
    "bathrooms_model_3 = joblib.load(model_root_path + \"_bathrooms_3.pkl\")\n",
    "bathrooms_model_4 = joblib.load(model_root_path + \"_bathrooms_4.pkl\")\n",
    "\n",
    "Y_bathroom_gbdt_pred = np.zeros(shape=(len(X_test),))\n",
    "bathrooms_split_points = [1, 2, 3, 4, 5]\n",
    "bathroom_models = [bathrooms_model_0, bathrooms_model_1, bathrooms_model_2, bathrooms_model_3, bathrooms_model_4]\n",
    "\n",
    "for i in range(len(X_test)):\n",
    "    sample_input = X_test.iloc[i,:]\n",
    "    sample_bathroom = sample_input['bathrooms']\n",
    "    sample_input = sample_input.values.reshape(1, -1)\n",
    "    \n",
    "    \n",
    "    isFound = False\n",
    "    for j in range(len(bathroom_models)-2):\n",
    "        if bathrooms_split_points[j] <= sample_bathroom < bathrooms_split_points[j+1]:\n",
    "            Y_bathroom_gbdt_pred[i] = bathroom_models[j].predict(sample_input)\n",
    "            isFound = True\n",
    "            break\n",
    "    if not isFound:\n",
    "        Y_bathroom_gbdt_pred[i] = bathroom_models[-1].predict(sample_input)\n",
    "\n",
    "Y_bathroom_gbdt_pred = Y_bathroom_gbdt_pred.reshape(-1,1)\n",
    "Y_bathroom_gbdt_pred"
   ]
  },
  {
   "cell_type": "code",
   "execution_count": 24,
   "id": "7d5bd96c-bbe8-46f4-84eb-b9602bdf10de",
   "metadata": {},
   "outputs": [
    {
     "data": {
      "text/plain": [
       "array([[2004229.375 ],\n",
       "       [2590853.25  ],\n",
       "       [ 762398.75  ],\n",
       "       ...,\n",
       "       [1681273.25  ],\n",
       "       [ 969276.1875],\n",
       "       [6863993.    ]])"
      ]
     },
     "execution_count": 24,
     "metadata": {},
     "output_type": "execute_result"
    }
   ],
   "source": [
    "model_root_path = \"Models/Bathrooms_models/xgboost\"\n",
    "\n",
    "bathrooms_model_0 = joblib.load(model_root_path + \"_bathrooms_0.pkl\")\n",
    "bathrooms_model_1 = joblib.load(model_root_path + \"_bathrooms_1.pkl\")\n",
    "bathrooms_model_2 = joblib.load(model_root_path + \"_bathrooms_2.pkl\")\n",
    "bathrooms_model_3 = joblib.load(model_root_path + \"_bathrooms_3.pkl\")\n",
    "bathrooms_model_4 = joblib.load(model_root_path + \"_bathrooms_4.pkl\")\n",
    "\n",
    "Y_bathroom_xgboost_pred = np.zeros(shape=(len(X_test),))\n",
    "bathrooms_split_points = [1, 2, 3, 4, 5]\n",
    "bathroom_models = [bathrooms_model_0, bathrooms_model_1, bathrooms_model_2, bathrooms_model_3, bathrooms_model_4]\n",
    "\n",
    "for i in range(len(X_test)):\n",
    "    sample_input = X_test.iloc[i,:]\n",
    "    sample_bathroom = sample_input['bathrooms']\n",
    "    sample_input = sample_input.values.reshape(1, -1)\n",
    "    \n",
    "    \n",
    "    isFound = False\n",
    "    for j in range(len(bathroom_models)-2):\n",
    "        if bathrooms_split_points[j] <= sample_bathroom < bathrooms_split_points[j+1]:\n",
    "            Y_bathroom_xgboost_pred[i] = bathroom_models[j].predict(sample_input)\n",
    "            isFound = True\n",
    "            break\n",
    "    if not isFound:\n",
    "        Y_bathroom_xgboost_pred[i] = bathroom_models[-1].predict(sample_input)\n",
    "\n",
    "Y_bathroom_xgboost_pred = Y_bathroom_xgboost_pred.reshape(-1,1)\n",
    "Y_bathroom_xgboost_pred"
   ]
  },
  {
   "cell_type": "markdown",
   "id": "086a5894-0e23-4de7-be5d-a0b385155d7f",
   "metadata": {},
   "source": [
    "## Get base models' results "
   ]
  },
  {
   "cell_type": "code",
   "execution_count": 26,
   "id": "219a3c5c-1109-4907-a28b-2740a9004b68",
   "metadata": {},
   "outputs": [
    {
     "data": {
      "text/plain": [
       "array([[1970426.28067219, 2010357.75      , 1151276.15622788,\n",
       "        1240808.625     , 2025950.98866798, 2004229.375     ],\n",
       "       [2561129.34527537, 2570778.5       , 2161178.9297561 ,\n",
       "        1960900.        , 2580816.85716467, 2590853.25      ],\n",
       "       [ 782221.56383361,  781892.1875    ,  910699.51275227,\n",
       "        1358296.        ,  794912.42614716,  762398.75      ],\n",
       "       ...,\n",
       "       [1680584.34357039, 1634656.25      , 1401468.51601926,\n",
       "        1559363.        , 1686846.13013011, 1681273.25      ],\n",
       "       [ 858353.75069637,  869455.5       ,  976814.54930105,\n",
       "        1010178.0625    ,  934844.16457352,  969276.1875    ],\n",
       "       [8217734.69071368, 7885923.        , 3297987.24679598,\n",
       "        2868360.25      , 6174863.48170608, 6863993.        ]])"
      ]
     },
     "execution_count": 26,
     "metadata": {},
     "output_type": "execute_result"
    }
   ],
   "source": [
    "# Combine all results together to form the new trainining set\n",
    "base_models_results = np.hstack([Y_area_gbdt_pred, Y_area_xgboost_pred, \n",
    "                                 Y_region_gbdt_pred, Y_region_xgboost_pred,\n",
    "                                 Y_bathroom_gbdt_pred, Y_bathroom_xgboost_pred])\n",
    "base_models_results"
   ]
  },
  {
   "cell_type": "markdown",
   "id": "8578144a-4f10-40c6-8ec6-1ed654795ea6",
   "metadata": {},
   "source": [
    "### Linear Regression Fusion"
   ]
  },
  {
   "cell_type": "code",
   "execution_count": 20,
   "id": "19638b1e-2768-483b-af58-026c8bd3dff4",
   "metadata": {},
   "outputs": [],
   "source": [
    "lr_model = joblib.load(\"Models/LinearRegression/LR_area0_region1_bathroom1.pkl\")"
   ]
  },
  {
   "cell_type": "code",
   "execution_count": 27,
   "id": "f7e1f007-18b4-4136-b6b2-bbdeae5f5c38",
   "metadata": {},
   "outputs": [],
   "source": [
    "kaggle_Y_pred = lr_model.predict(base_models_results).ravel()"
   ]
  },
  {
   "cell_type": "code",
   "execution_count": 28,
   "id": "13c3284c-3ac4-4281-a967-9c8cc6265cc0",
   "metadata": {},
   "outputs": [
    {
     "data": {
      "text/plain": [
       "array([2006437.77344695, 2582960.196597  ,  781703.31887252, ...,\n",
       "       1685441.46864613,  977899.15396459, 7107815.60094394])"
      ]
     },
     "execution_count": 28,
     "metadata": {},
     "output_type": "execute_result"
    }
   ],
   "source": [
    "kaggle_Y_pred"
   ]
  },
  {
   "cell_type": "code",
   "execution_count": 29,
   "id": "d02c8e8d-e5f1-4bab-9c56-6223437276e0",
   "metadata": {},
   "outputs": [],
   "source": [
    "pred_df = pd.Series(kaggle_Y_pred, name='Predicted') \n",
    "\n",
    "# Save the results\n",
    "pred_df.to_csv('Results/LR_area0_region1_bathroom1_01.csv', header=['Predicted'], index_label=['Id'])"
   ]
  },
  {
   "cell_type": "markdown",
   "id": "7236e25c-3f5a-4e72-ae0d-4dc51c9e8942",
   "metadata": {},
   "source": [
    "## Weight Fusion"
   ]
  },
  {
   "cell_type": "code",
   "execution_count": 27,
   "id": "6ec82bb6-f8c3-4166-9fca-ba5a46bb517b",
   "metadata": {},
   "outputs": [
    {
     "data": {
      "text/plain": [
       "array([[1970426.28067219, 2010357.75      , 1151276.15622788,\n",
       "        1240808.625     , 2025950.98866798, 2004229.375     ],\n",
       "       [2561129.34527537, 2570778.5       , 2161178.9297561 ,\n",
       "        1960900.        , 2580816.85716467, 2590853.25      ],\n",
       "       [ 782221.56383361,  781892.1875    ,  910699.51275227,\n",
       "        1358296.        ,  794912.42614716,  762398.75      ],\n",
       "       ...,\n",
       "       [1680584.34357039, 1634656.25      , 1401468.51601926,\n",
       "        1559363.        , 1686846.13013011, 1681273.25      ],\n",
       "       [ 858353.75069637,  869455.5       ,  976814.54930105,\n",
       "        1010178.0625    ,  934844.16457352,  969276.1875    ],\n",
       "       [8217734.69071368, 7885923.        , 3297987.24679598,\n",
       "        2868360.25      , 6174863.48170608, 6863993.        ]])"
      ]
     },
     "execution_count": 27,
     "metadata": {},
     "output_type": "execute_result"
    }
   ],
   "source": [
    "base_models_results"
   ]
  },
  {
   "cell_type": "code",
   "execution_count": 38,
   "id": "c5987d41-cd77-48d1-b455-48edb731d12b",
   "metadata": {},
   "outputs": [],
   "source": [
    "weigts = np.asarray([0.15, 0.7, 0.15])"
   ]
  },
  {
   "cell_type": "code",
   "execution_count": 40,
   "id": "33f59394-f529-4227-bd6a-8e3863602624",
   "metadata": {},
   "outputs": [
    {
     "data": {
      "text/plain": [
       "array([2071983.9794859 , 2599304.9392913 ,  789862.81554673, ...,\n",
       "       1645067.85153556,  891254.78732983, 7329683.31090452])"
      ]
     },
     "execution_count": 40,
     "metadata": {},
     "output_type": "execute_result"
    }
   ],
   "source": [
    "kaggle_Y_pred = np.sum(weigts * base_models_results, axis=1)\n",
    "kaggle_Y_pred"
   ]
  },
  {
   "cell_type": "code",
   "execution_count": 42,
   "id": "35f15bc7-5f55-4787-a6d9-f6691fa6a137",
   "metadata": {},
   "outputs": [],
   "source": [
    "pred_df = pd.Series(kaggle_Y_pred, name='Predicted') \n",
    "\n",
    "# Save the results\n",
    "pred_df.to_csv('Results/Weights_area0_region1_bathroom1_01.csv', header=['Predicted'], index_label=['Id'])"
   ]
  },
  {
   "cell_type": "markdown",
   "id": "7e07f075-a37a-4749-a9ee-72be325a485d",
   "metadata": {},
   "source": [
    "## Other methods"
   ]
  },
  {
   "cell_type": "code",
   "execution_count": 72,
   "id": "04d6fefd-4187-4382-87f1-a063df3e867d",
   "metadata": {},
   "outputs": [
    {
     "data": {
      "text/plain": [
       "array([[2008164.154906  , 1983721.875     , 2034450.23055069,\n",
       "        2100178.5       , 2025950.98866798, 2004229.375     ],\n",
       "       [2561129.34527537, 2587605.        , 2599746.68387621,\n",
       "        2609296.5       , 2580816.85716467, 2590853.25      ],\n",
       "       [ 809964.06197822,  702074.9375    ,  977851.49261967,\n",
       "         791440.5625    ,  794912.42614716,  762398.75      ],\n",
       "       ...,\n",
       "       [1680584.34357039, 1649925.375     , 1593039.82852439,\n",
       "        1629698.875     , 1686846.13013011, 1681273.25      ],\n",
       "       [ 962423.97803218,  989272.5       ,  890887.16012974,\n",
       "         859285.375     ,  934844.16457352,  969276.1875    ],\n",
       "       [8481494.07269681, 7226981.        , 7819827.74935557,\n",
       "        7182657.5       , 6174863.48170608, 6863993.        ]])"
      ]
     },
     "execution_count": 72,
     "metadata": {},
     "output_type": "execute_result"
    }
   ],
   "source": [
    "base_models_results = np.hstack([Y_area_gbdt_pred, Y_area_xgboost_pred, \n",
    "                                 Y_region_gbdt_pred, Y_region_xgboost_pred,\n",
    "                                 Y_bathroom_gbdt_pred, Y_bathroom_xgboost_pred])\n",
    "base_models_results"
   ]
  },
  {
   "cell_type": "code",
   "execution_count": 84,
   "id": "36e092af-dc15-4752-99b0-31a99a7a30af",
   "metadata": {},
   "outputs": [
    {
     "data": {
      "text/plain": [
       "array([2037524.00996867, 2587093.03175846,  787934.45815941, ...,\n",
       "       1663852.15619013,  930328.51351073, 7509381.52423227])"
      ]
     },
     "execution_count": 84,
     "metadata": {},
     "output_type": "execute_result"
    }
   ],
   "source": [
    "kaggle_Y_pred_mean = np.mean(base_models_results, axis=1)\n",
    "kaggle_Y_pred_mean"
   ]
  },
  {
   "cell_type": "code",
   "execution_count": 86,
   "id": "037a6075-01f6-498d-a3ea-724c5a87d66a",
   "metadata": {},
   "outputs": [],
   "source": [
    "pred_df = pd.Series(kaggle_Y_pred, name='Predicted') \n",
    "\n",
    "# Save the results\n",
    "pred_df.to_csv('Results/Mean_area0_region1_bathroom1_01.csv', header=['Predicted'], index_label=['Id'])"
   ]
  },
  {
   "cell_type": "code",
   "execution_count": 69,
   "id": "aa0dfee9-38d7-4b32-86a1-c0d6eb3ef86a",
   "metadata": {},
   "outputs": [
    {
     "data": {
      "text/plain": [
       "array([2017057.57178699, 2589229.125     ,  793176.49432358, ...,\n",
       "       1665254.85928519,  948634.07130285, 7204819.25      ])"
      ]
     },
     "execution_count": 69,
     "metadata": {},
     "output_type": "execute_result"
    }
   ],
   "source": [
    "kaggle_Y_pred_median = np.median(base_models_results,axis=1)\n",
    "kaggle_Y_pred_median"
   ]
  },
  {
   "cell_type": "code",
   "execution_count": 73,
   "id": "b1601f21-93f2-42e8-840d-200b6aad1106",
   "metadata": {},
   "outputs": [],
   "source": [
    "pred_df = pd.Series(kaggle_Y_pred_median, name='Predicted') \n",
    "\n",
    "# Save the results\n",
    "pred_df.to_csv('Results/Median6.csv', header=['Predicted'], index_label=['Id'])"
   ]
  },
  {
   "cell_type": "code",
   "execution_count": null,
   "id": "23145fd0-b7cb-4cfe-b069-a4fd0a9e4d01",
   "metadata": {},
   "outputs": [],
   "source": []
  }
 ],
 "metadata": {
  "kernelspec": {
   "display_name": "Python 3 (ipykernel)",
   "language": "python",
   "name": "python3"
  },
  "language_info": {
   "codemirror_mode": {
    "name": "ipython",
    "version": 3
   },
   "file_extension": ".py",
   "mimetype": "text/x-python",
   "name": "python",
   "nbconvert_exporter": "python",
   "pygments_lexer": "ipython3",
   "version": "3.8.8"
  }
 },
 "nbformat": 4,
 "nbformat_minor": 5
}
